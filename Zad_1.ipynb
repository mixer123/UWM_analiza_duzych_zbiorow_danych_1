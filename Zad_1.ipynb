{
 "cells": [
  {
   "cell_type": "code",
   "execution_count": 6,
   "id": "3f7c7664",
   "metadata": {},
   "outputs": [
    {
     "data": {
      "text/plain": [
       "array([15, 85, 95, 95, 23])"
      ]
     },
     "execution_count": 6,
     "metadata": {},
     "output_type": "execute_result"
    }
   ],
   "source": [
    "import numpy as np\n",
    "vec = np.random.randint(0, 100, size=5)\n",
    "vec\n"
   ]
  },
  {
   "cell_type": "code",
   "execution_count": 7,
   "id": "cee4bf29",
   "metadata": {},
   "outputs": [],
   "source": [
    "for j in np.arange(1, vec.size):\n",
    "    v = vec[j]\n",
    "    i = j\n",
    "    while i > 0 and vec[i-1] > v:\n",
    "        vec[i] = vec[i-1]\n",
    "        i = i - 1\n",
    "        vec[i] = v"
   ]
  },
  {
   "cell_type": "code",
   "execution_count": 8,
   "id": "d9fe6d34",
   "metadata": {},
   "outputs": [
    {
     "data": {
      "text/plain": [
       "array([15, 23, 85, 95, 95])"
      ]
     },
     "execution_count": 8,
     "metadata": {},
     "output_type": "execute_result"
    }
   ],
   "source": [
    "vec"
   ]
  },
  {
   "cell_type": "code",
   "execution_count": null,
   "id": "29936a4b",
   "metadata": {},
   "outputs": [],
   "source": []
  }
 ],
 "metadata": {
  "kernelspec": {
   "display_name": "Python 3 (ipykernel)",
   "language": "python",
   "name": "python3"
  },
  "language_info": {
   "codemirror_mode": {
    "name": "ipython",
    "version": 3
   },
   "file_extension": ".py",
   "mimetype": "text/x-python",
   "name": "python",
   "nbconvert_exporter": "python",
   "pygments_lexer": "ipython3",
   "version": "3.10.6"
  }
 },
 "nbformat": 4,
 "nbformat_minor": 5
}
