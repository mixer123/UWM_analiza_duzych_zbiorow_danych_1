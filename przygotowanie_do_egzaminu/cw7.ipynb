{
 "cells": [
  {
   "cell_type": "code",
   "execution_count": null,
   "id": "59d2fe0e",
   "metadata": {},
   "outputs": [],
   "source": [
    "#import findspark\n",
    "#findspark.init()\n",
    "import pyspark\n",
    "import random"
   ]
  },
  {
   "cell_type": "code",
   "execution_count": null,
   "id": "aaeb12ce",
   "metadata": {},
   "outputs": [],
   "source": [
    "from pyspark import SparkContext\n",
    "sc = SparkContext()\n",
    "from pyspark.sql import SQLContext\n",
    "sqlc = SQLContext(sc)"
   ]
  },
  {
   "cell_type": "code",
   "execution_count": null,
   "id": "a7580c39",
   "metadata": {},
   "outputs": [],
   "source": [
    "df = sqlc.read.format('com.databricks.spark.csv').options(header = 'true',inferschema = 'true').load('iris_missing.csv')"
   ]
  },
  {
   "cell_type": "code",
   "execution_count": null,
   "id": "92b35b43",
   "metadata": {},
   "outputs": [],
   "source": [
    "df.show(30)"
   ]
  },
  {
   "cell_type": "code",
   "execution_count": 10,
   "id": "94bdbc9e",
   "metadata": {},
   "outputs": [],
   "source": [
    "from pyspark.sql.functions import isnan, when, count, col"
   ]
  },
  {
   "cell_type": "code",
   "execution_count": 11,
   "id": "9fc3e138",
   "metadata": {},
   "outputs": [
    {
     "data": {
      "text/plain": [
       "5"
      ]
     },
     "execution_count": 11,
     "metadata": {},
     "output_type": "execute_result"
    }
   ],
   "source": [
    "df.filter(col('Sepallength').isNull()).count()"
   ]
  },
  {
   "cell_type": "code",
   "execution_count": 14,
   "id": "c36676c0",
   "metadata": {},
   "outputs": [
    {
     "data": {
      "text/plain": [
       "0"
      ]
     },
     "execution_count": 14,
     "metadata": {},
     "output_type": "execute_result"
    }
   ],
   "source": [
    "df.filter(isnan('Sepallength')).count()"
   ]
  },
  {
   "cell_type": "code",
   "execution_count": 15,
   "id": "61f56b59",
   "metadata": {},
   "outputs": [],
   "source": [
    "c='Sepalwidth'\n"
   ]
  },
  {
   "cell_type": "code",
   "execution_count": 23,
   "id": "4acca55e",
   "metadata": {},
   "outputs": [
    {
     "data": {
      "text/plain": [
       "Column<'CASE WHEN (Sepalwidth > 3.0) THEN BIG END'>"
      ]
     },
     "execution_count": 23,
     "metadata": {},
     "output_type": "execute_result"
    }
   ],
   "source": [
    "#df.show()\n",
    "when(col(c)>3.0,'BIG')\n",
    " #returns column\n"
   ]
  },
  {
   "cell_type": "code",
   "execution_count": 28,
   "id": "dd7ab3fe",
   "metadata": {},
   "outputs": [
    {
     "name": "stdout",
     "output_type": "stream",
     "text": [
      "+-----------+----------+-----------+----------+-------+----------+\n",
      "|Sepallength|Sepalwidth|Petallength|Petalwidth|Species|new_column|\n",
      "+-----------+----------+-----------+----------+-------+----------+\n",
      "|        5.1|       3.5|        1.4|       0.2| setosa|       BIG|\n",
      "|        4.9|       3.0|        1.4|       0.2| setosa|      null|\n",
      "|        4.7|       3.2|        1.3|       0.2| setosa|       BIG|\n",
      "|        4.6|       3.1|        1.5|       0.2| setosa|       BIG|\n",
      "|        5.0|       3.6|        1.4|       0.2| setosa|       BIG|\n",
      "|        5.4|       3.9|        1.7|       0.4| setosa|       BIG|\n",
      "|        4.6|       3.4|        1.4|       0.3| setosa|       BIG|\n",
      "|        5.0|       3.4|        1.5|       0.2| setosa|       BIG|\n",
      "|        4.4|       2.9|        1.4|       0.2| setosa|      null|\n",
      "|        4.9|       3.1|        1.5|       0.1| setosa|       BIG|\n",
      "|        5.4|       3.7|        1.5|       0.2| setosa|       BIG|\n",
      "|        4.8|       3.4|        1.6|       0.2| setosa|       BIG|\n",
      "|        4.8|       3.0|        1.4|       0.1| setosa|      null|\n",
      "|        4.3|       3.0|        1.1|       0.1| setosa|      null|\n",
      "|        5.8|       4.0|        1.2|       0.2| setosa|       BIG|\n",
      "|        5.7|       4.4|        1.5|       0.4| setosa|       BIG|\n",
      "|        5.4|       3.9|        1.3|       0.4| setosa|       BIG|\n",
      "|        5.1|       3.5|        1.4|       0.3| setosa|       BIG|\n",
      "|        5.7|       3.8|        1.7|       0.3| setosa|       BIG|\n",
      "|        5.1|       3.8|        1.5|       0.3| setosa|       BIG|\n",
      "+-----------+----------+-----------+----------+-------+----------+\n",
      "only showing top 20 rows\n",
      "\n"
     ]
    }
   ],
   "source": [
    "# df.select(when(col(c)>3.0,'BIG')).show() #returns and shows dataframe\n",
    "df.withColumn(\"new_column\",when(col(c)>3.0,'BIG')).show()\n",
    "#df.select(when(col(c)>3.0,'BIG').otherwise('SMALL')).show()\n",
    "#df.select(when((col(c)<4.0)&(col(c)>3.0),'BIG').when(col(c)>=4.0,'HUGE').otherwise('SMALL')).show()\n",
    "#df.select(when((col(c)<4.0)&(col(c)>3.0),'BIG').when(col(c)>=4.0,'HUGE').otherwise('SMALL').alias(c)).show()\n",
    "#df.select(count(when(col(c)>3.0,'BIG'))).show()\n",
    "#df.select(count(when(col(c)>3.0,'BIG').alias(c))).show()\n",
    "#for selecting you can use Spark columns list:\n",
    "#col1 = when(col(c)>3.0,'BIG').otherwise(0)\n",
    "#col2 = when(col(c)<3.0,'SMALL').otherwise(0)\n",
    "#df.select([col1,col2]).show()\n",
    "#TRY to do Ex39 yourself as Activity"
   ]
  },
  {
   "cell_type": "code",
   "execution_count": 47,
   "id": "214b3a1d",
   "metadata": {},
   "outputs": [
    {
     "name": "stdout",
     "output_type": "stream",
     "text": [
      "+----------------------------------------------------+\n",
      "|CASE WHEN (Sepalwidth > 3.0) THEN BIG ELSE SMALL END|\n",
      "+----------------------------------------------------+\n",
      "|                                                 BIG|\n",
      "|                                               SMALL|\n",
      "|                                                 BIG|\n",
      "|                                                 BIG|\n",
      "|                                                 BIG|\n",
      "|                                                 BIG|\n",
      "|                                                 BIG|\n",
      "|                                                 BIG|\n",
      "|                                               SMALL|\n",
      "|                                                 BIG|\n",
      "|                                                 BIG|\n",
      "|                                                 BIG|\n",
      "|                                               SMALL|\n",
      "|                                               SMALL|\n",
      "|                                                 BIG|\n",
      "|                                                 BIG|\n",
      "|                                                 BIG|\n",
      "|                                                 BIG|\n",
      "|                                                 BIG|\n",
      "|                                                 BIG|\n",
      "+----------------------------------------------------+\n",
      "only showing top 20 rows\n",
      "\n",
      "+-----------+----------+-----------+----------+-------+----------+\n",
      "|Sepallength|Sepalwidth|Petallength|Petalwidth|Species|new_column|\n",
      "+-----------+----------+-----------+----------+-------+----------+\n",
      "|        5.1|       3.5|        1.4|       0.2| setosa|       BIG|\n",
      "|        4.9|       3.0|        1.4|       0.2| setosa|     SMALL|\n",
      "|        4.7|       3.2|        1.3|       0.2| setosa|       BIG|\n",
      "|        4.6|       3.1|        1.5|       0.2| setosa|       BIG|\n",
      "|        5.0|       3.6|        1.4|       0.2| setosa|       BIG|\n",
      "|        5.4|       3.9|        1.7|       0.4| setosa|       BIG|\n",
      "|        4.6|       3.4|        1.4|       0.3| setosa|       BIG|\n",
      "|        5.0|       3.4|        1.5|       0.2| setosa|       BIG|\n",
      "|        4.4|       2.9|        1.4|       0.2| setosa|     SMALL|\n",
      "|        4.9|       3.1|        1.5|       0.1| setosa|       BIG|\n",
      "|        5.4|       3.7|        1.5|       0.2| setosa|       BIG|\n",
      "|        4.8|       3.4|        1.6|       0.2| setosa|       BIG|\n",
      "|        4.8|       3.0|        1.4|       0.1| setosa|     SMALL|\n",
      "|        4.3|       3.0|        1.1|       0.1| setosa|     SMALL|\n",
      "|        5.8|       4.0|        1.2|       0.2| setosa|       BIG|\n",
      "|        5.7|       4.4|        1.5|       0.4| setosa|       BIG|\n",
      "|        5.4|       3.9|        1.3|       0.4| setosa|       BIG|\n",
      "|        5.1|       3.5|        1.4|       0.3| setosa|       BIG|\n",
      "|        5.7|       3.8|        1.7|       0.3| setosa|       BIG|\n",
      "|        5.1|       3.8|        1.5|       0.3| setosa|       BIG|\n",
      "+-----------+----------+-----------+----------+-------+----------+\n",
      "only showing top 20 rows\n",
      "\n"
     ]
    }
   ],
   "source": [
    "df.select(when(col(c)>3.0,'BIG').otherwise('SMALL')).alias('alias').show()\n",
    "df.withColumn(\"new_column\",when(col(c)>3.0,'BIG').otherwise('SMALL')).show()"
   ]
  },
  {
   "cell_type": "code",
   "execution_count": 45,
   "id": "cebf6d36",
   "metadata": {},
   "outputs": [
    {
     "name": "stdout",
     "output_type": "stream",
     "text": [
      "+------------------------------------------------+--------------------------------------------------+\n",
      "|CASE WHEN (Sepalwidth > 3.0) THEN BIG ELSE 0 END|CASE WHEN (Sepalwidth < 3.0) THEN SMALL ELSE 0 END|\n",
      "+------------------------------------------------+--------------------------------------------------+\n",
      "|                                             BIG|                                                 0|\n",
      "|                                               0|                                                 0|\n",
      "|                                             BIG|                                                 0|\n",
      "|                                             BIG|                                                 0|\n",
      "|                                             BIG|                                                 0|\n",
      "|                                             BIG|                                                 0|\n",
      "|                                             BIG|                                                 0|\n",
      "|                                             BIG|                                                 0|\n",
      "|                                               0|                                             SMALL|\n",
      "|                                             BIG|                                                 0|\n",
      "|                                             BIG|                                                 0|\n",
      "|                                             BIG|                                                 0|\n",
      "|                                               0|                                                 0|\n",
      "|                                               0|                                                 0|\n",
      "|                                             BIG|                                                 0|\n",
      "|                                             BIG|                                                 0|\n",
      "|                                             BIG|                                                 0|\n",
      "|                                             BIG|                                                 0|\n",
      "|                                             BIG|                                                 0|\n",
      "|                                             BIG|                                                 0|\n",
      "+------------------------------------------------+--------------------------------------------------+\n",
      "only showing top 20 rows\n",
      "\n",
      "+-----------+----------+-----------+----------+-------+-------------------+\n",
      "|Sepallength|Sepalwidth|Petallength|Petalwidth|Species|wartosc Sepallength|\n",
      "+-----------+----------+-----------+----------+-------+-------------------+\n",
      "|        5.1|       3.5|        1.4|       0.2| setosa|                BIG|\n",
      "|        4.9|       3.0|        1.4|       0.2| setosa|                  0|\n",
      "|        4.7|       3.2|        1.3|       0.2| setosa|                BIG|\n",
      "|        4.6|       3.1|        1.5|       0.2| setosa|                BIG|\n",
      "|        5.0|       3.6|        1.4|       0.2| setosa|                BIG|\n",
      "|        5.4|       3.9|        1.7|       0.4| setosa|                BIG|\n",
      "|        4.6|       3.4|        1.4|       0.3| setosa|                BIG|\n",
      "|        5.0|       3.4|        1.5|       0.2| setosa|                BIG|\n",
      "|        4.4|       2.9|        1.4|       0.2| setosa|              SMALL|\n",
      "|        4.9|       3.1|        1.5|       0.1| setosa|                BIG|\n",
      "|        5.4|       3.7|        1.5|       0.2| setosa|                BIG|\n",
      "|        4.8|       3.4|        1.6|       0.2| setosa|                BIG|\n",
      "|        4.8|       3.0|        1.4|       0.1| setosa|                  0|\n",
      "|        4.3|       3.0|        1.1|       0.1| setosa|                  0|\n",
      "|        5.8|       4.0|        1.2|       0.2| setosa|                BIG|\n",
      "|        5.7|       4.4|        1.5|       0.4| setosa|                BIG|\n",
      "|        5.4|       3.9|        1.3|       0.4| setosa|                BIG|\n",
      "|        5.1|       3.5|        1.4|       0.3| setosa|                BIG|\n",
      "|        5.7|       3.8|        1.7|       0.3| setosa|                BIG|\n",
      "|        5.1|       3.8|        1.5|       0.3| setosa|                BIG|\n",
      "+-----------+----------+-----------+----------+-------+-------------------+\n",
      "only showing top 20 rows\n",
      "\n"
     ]
    }
   ],
   "source": [
    "#for selecting you can use Spark columns list:\n",
    "col1 = when(col(c)>3.0,'BIG').otherwise(0)\n",
    "col2 = when(col(c)<3.0,'SMALL').otherwise(0)\n",
    "df.select([col1,col2]).show()\n",
    "df.withColumn(\"wartosc Sepallength\",when(col(c)>3.0,'BIG').when(col(c)<3.0,'SMALL').otherwise(0)).show()"
   ]
  },
  {
   "cell_type": "code",
   "execution_count": 50,
   "id": "07dd6923",
   "metadata": {},
   "outputs": [
    {
     "name": "stdout",
     "output_type": "stream",
     "text": [
      "+-----------+----------+-----------+----------+-------+\n",
      "|Sepallength|Sepalwidth|Petallength|Petalwidth|Species|\n",
      "+-----------+----------+-----------+----------+-------+\n",
      "|          5|         4|          3|         3|      0|\n",
      "+-----------+----------+-----------+----------+-------+\n",
      "\n"
     ]
    }
   ],
   "source": [
    "from pyspark.sql.functions import isnan, when, count, col\n",
    "df.select([count(when(isnan(c) | col(c).isNull(),c)).alias(c) for c in df.columns]).show()"
   ]
  },
  {
   "cell_type": "code",
   "execution_count": 69,
   "id": "c85432a7",
   "metadata": {},
   "outputs": [
    {
     "name": "stdout",
     "output_type": "stream",
     "text": [
      "w Sepallength jest  5 komórek z null ami \n",
      " oraz 0 z NaN\n",
      "w Sepalwidth jest  4 komórek z null ami \n",
      " oraz 0 z NaN\n",
      "w Petallength jest  3 komórek z null ami \n",
      " oraz 0 z NaN\n",
      "w Petalwidth jest  3 komórek z null ami \n",
      " oraz 0 z NaN\n",
      "w Species jest  0 komórek z null ami \n",
      " oraz 0 z NaN\n"
     ]
    }
   ],
   "source": [
    "for c in df.columns:    \n",
    "    print(f'w {c} jest  {df.filter(col(c).isNull()).count()} komórek z null ami \\n oraz {df.filter(isnan(c)).count()} z NaN')"
   ]
  },
  {
   "cell_type": "code",
   "execution_count": null,
   "id": "db9179ab",
   "metadata": {},
   "outputs": [],
   "source": []
  }
 ],
 "metadata": {
  "kernelspec": {
   "display_name": "Python 3 (ipykernel)",
   "language": "python",
   "name": "python3"
  },
  "language_info": {
   "codemirror_mode": {
    "name": "ipython",
    "version": 3
   },
   "file_extension": ".py",
   "mimetype": "text/x-python",
   "name": "python",
   "nbconvert_exporter": "python",
   "pygments_lexer": "ipython3",
   "version": "3.9.13"
  }
 },
 "nbformat": 4,
 "nbformat_minor": 5
}
