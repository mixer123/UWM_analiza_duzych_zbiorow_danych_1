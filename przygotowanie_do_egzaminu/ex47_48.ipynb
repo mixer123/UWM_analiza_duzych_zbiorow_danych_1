{
 "cells": [
  {
   "cell_type": "markdown",
   "id": "5d6e06ee",
   "metadata": {},
   "source": [
    "### Exercise 47: Reading Data from a CSV File Using the PySpark Object"
   ]
  },
  {
   "cell_type": "code",
   "execution_count": 1,
   "id": "a07350ea",
   "metadata": {},
   "outputs": [
    {
     "name": "stderr",
     "output_type": "stream",
     "text": [
      "/tmp/ipykernel_16836/4199512811.py:7: DeprecationWarning: `import pandas_profiling` is going to be deprecated by April 1st. Please use `import ydata_profiling` instead.\n",
      "  import pandas_profiling\n"
     ]
    }
   ],
   "source": [
    "import os\n",
    "import pandas as pd\n",
    "import numpy as np\n",
    "import collections\n",
    "from sklearn.base import TransformerMixin\n",
    "import random\n",
    "import pandas_profiling"
   ]
  },
  {
   "cell_type": "code",
   "execution_count": 2,
   "id": "b86db44f",
   "metadata": {},
   "outputs": [],
   "source": [
    "import seaborn as sns\n",
    "import time\n",
    "import re\n",
    "import matplotlib.pyplot as plt"
   ]
  },
  {
   "cell_type": "code",
   "execution_count": 3,
   "id": "dc741ae6",
   "metadata": {},
   "outputs": [],
   "source": [
    "sns.set(style=\"ticks\")"
   ]
  },
  {
   "cell_type": "code",
   "execution_count": 4,
   "id": "3d39c157",
   "metadata": {},
   "outputs": [
    {
     "name": "stdout",
     "output_type": "stream",
     "text": [
      "23/05/12 10:16:52 WARN Utils: Your hostname, mixer-N550JV resolves to a loopback address: 127.0.1.1; using 192.168.1.101 instead (on interface wlp4s0)\n",
      "23/05/12 10:16:52 WARN Utils: Set SPARK_LOCAL_IP if you need to bind to another address\n"
     ]
    },
    {
     "name": "stderr",
     "output_type": "stream",
     "text": [
      "Setting default log level to \"WARN\".\n",
      "To adjust logging level use sc.setLogLevel(newLevel). For SparkR, use setLogLevel(newLevel).\n"
     ]
    },
    {
     "name": "stdout",
     "output_type": "stream",
     "text": [
      "23/05/12 10:16:53 WARN NativeCodeLoader: Unable to load native-hadoop library for your platform... using builtin-java classes where applicable\n"
     ]
    }
   ],
   "source": [
    "from pyspark.sql import SparkSession\n",
    "spark = SparkSession.builder.appName('ml-bank').getOrCreate()"
   ]
  },
  {
   "cell_type": "code",
   "execution_count": 5,
   "id": "f9105239",
   "metadata": {},
   "outputs": [],
   "source": [
    "df_csv = spark.read.csv('../bank/bank.csv', sep=';', header = True, inferSchema = True)"
   ]
  },
  {
   "cell_type": "code",
   "execution_count": 6,
   "id": "f8484d24",
   "metadata": {},
   "outputs": [
    {
     "data": {
      "text/plain": [
       "['age',\n",
       " 'job',\n",
       " 'marital',\n",
       " 'education',\n",
       " 'default',\n",
       " 'balance',\n",
       " 'housing',\n",
       " 'loan',\n",
       " 'contact',\n",
       " 'day',\n",
       " 'month',\n",
       " 'duration',\n",
       " 'campaign',\n",
       " 'pdays',\n",
       " 'previous',\n",
       " 'poutcome',\n",
       " 'y']"
      ]
     },
     "execution_count": 6,
     "metadata": {},
     "output_type": "execute_result"
    }
   ],
   "source": [
    "df_csv.columns"
   ]
  },
  {
   "cell_type": "code",
   "execution_count": 7,
   "id": "dd8492ea",
   "metadata": {},
   "outputs": [
    {
     "name": "stdout",
     "output_type": "stream",
     "text": [
      "+---+-------------+\n",
      "|age|          job|\n",
      "+---+-------------+\n",
      "| 30|   unemployed|\n",
      "| 33|     services|\n",
      "| 35|   management|\n",
      "| 30|   management|\n",
      "| 59|  blue-collar|\n",
      "| 35|   management|\n",
      "| 36|self-employed|\n",
      "| 39|   technician|\n",
      "| 41| entrepreneur|\n",
      "| 43|     services|\n",
      "| 39|     services|\n",
      "| 43|       admin.|\n",
      "| 36|   technician|\n",
      "| 20|      student|\n",
      "| 31|  blue-collar|\n",
      "| 40|   management|\n",
      "| 56|   technician|\n",
      "| 37|       admin.|\n",
      "| 25|  blue-collar|\n",
      "| 31|     services|\n",
      "+---+-------------+\n",
      "only showing top 20 rows\n",
      "\n"
     ]
    }
   ],
   "source": [
    "df_csv.select(df_csv['age'],df_csv['job']).show()"
   ]
  },
  {
   "cell_type": "code",
   "execution_count": 8,
   "id": "2e8cef20",
   "metadata": {},
   "outputs": [
    {
     "name": "stdout",
     "output_type": "stream",
     "text": [
      "root\n",
      " |-- age: integer (nullable = true)\n",
      " |-- job: string (nullable = true)\n",
      " |-- marital: string (nullable = true)\n",
      " |-- education: string (nullable = true)\n",
      " |-- default: string (nullable = true)\n",
      " |-- balance: integer (nullable = true)\n",
      " |-- housing: string (nullable = true)\n",
      " |-- loan: string (nullable = true)\n",
      " |-- contact: string (nullable = true)\n",
      " |-- day: integer (nullable = true)\n",
      " |-- month: string (nullable = true)\n",
      " |-- duration: integer (nullable = true)\n",
      " |-- campaign: integer (nullable = true)\n",
      " |-- pdays: integer (nullable = true)\n",
      " |-- previous: integer (nullable = true)\n",
      " |-- poutcome: string (nullable = true)\n",
      " |-- y: string (nullable = true)\n",
      "\n"
     ]
    }
   ],
   "source": [
    "df_csv.printSchema()"
   ]
  },
  {
   "cell_type": "markdown",
   "id": "88ca7ea5",
   "metadata": {},
   "source": [
    "### Exercise 48: Reading Data in PySpark and Carrying Out SQL Operations"
   ]
  },
  {
   "cell_type": "code",
   "execution_count": 9,
   "id": "bf4439f2",
   "metadata": {},
   "outputs": [
    {
     "name": "stderr",
     "output_type": "stream",
     "text": [
      "\r",
      "[Stage 3:>                                                          (0 + 1) / 1]\r"
     ]
    },
    {
     "name": "stdout",
     "output_type": "stream",
     "text": [
      "+-------+------------------+-------+--------+---------+-------+------------------+-------+----+--------+------------------+-----+------------------+------------------+------------------+------------------+--------+----+\n",
      "|summary|               age|    job| marital|education|default|           balance|housing|loan| contact|               day|month|          duration|          campaign|             pdays|          previous|poutcome|   y|\n",
      "+-------+------------------+-------+--------+---------+-------+------------------+-------+----+--------+------------------+-----+------------------+------------------+------------------+------------------+--------+----+\n",
      "|  count|              4521|   4521|    4521|     4521|   4521|              4521|   4521|4521|    4521|              4521| 4521|              4521|              4521|              4521|              4521|    4521|4521|\n",
      "|   mean| 41.17009511170095|   null|    null|     null|   null|1422.6578190665782|   null|null|    null|15.915284229152842| null|263.96129174961294| 2.793629727936297|39.766644547666445|0.5425790754257908|    null|null|\n",
      "| stddev|10.576210958711263|   null|    null|     null|   null|3009.6381424673395|   null|null|    null| 8.247667327229934| null|259.85663262468216|3.1098066601885823|100.12112444301656|1.6935623506071211|    null|null|\n",
      "|    min|                19| admin.|divorced|  primary|     no|             -3313|     no|  no|cellular|                 1|  apr|                 4|                 1|                -1|                 0| failure|  no|\n",
      "|    max|                87|unknown|  single|  unknown|    yes|             71188|    yes| yes| unknown|                31|  sep|              3025|                50|               871|                25| unknown| yes|\n",
      "+-------+------------------+-------+--------+---------+-------+------------------+-------+----+--------+------------------+-----+------------------+------------------+------------------+------------------+--------+----+\n",
      "\n"
     ]
    },
    {
     "name": "stderr",
     "output_type": "stream",
     "text": [
      "\r",
      "                                                                                \r"
     ]
    }
   ],
   "source": [
    "df_csv.describe().show() "
   ]
  },
  {
   "cell_type": "code",
   "execution_count": 10,
   "id": "6a85f85a",
   "metadata": {},
   "outputs": [
    {
     "name": "stdout",
     "output_type": "stream",
     "text": [
      "+-------+------------------+-------+\n",
      "|summary|               age|    job|\n",
      "+-------+------------------+-------+\n",
      "|  count|              4521|   4521|\n",
      "|   mean| 41.17009511170095|   null|\n",
      "| stddev|10.576210958711263|   null|\n",
      "|    min|                19| admin.|\n",
      "|    max|                87|unknown|\n",
      "+-------+------------------+-------+\n",
      "\n"
     ]
    }
   ],
   "source": [
    "df_csv.select(df_csv['age'],df_csv['job']).describe().show() "
   ]
  },
  {
   "cell_type": "code",
   "execution_count": 11,
   "id": "f61ce9c2",
   "metadata": {},
   "outputs": [
    {
     "data": {
      "text/plain": [
       "Row(age=30, job='unemployed', marital='married', education='primary', default='no', balance=1787, housing='no', loan='no', contact='cellular', day=19, month='oct', duration=79, campaign=1, pdays=-1, previous=0, poutcome='unknown', y='no')"
      ]
     },
     "execution_count": 11,
     "metadata": {},
     "output_type": "execute_result"
    }
   ],
   "source": [
    "df_csv.head(1)[0]"
   ]
  },
  {
   "cell_type": "code",
   "execution_count": 12,
   "id": "c2431268",
   "metadata": {},
   "outputs": [
    {
     "name": "stdout",
     "output_type": "stream",
     "text": [
      "+---+-----------+\n",
      "|age|        job|\n",
      "+---+-----------+\n",
      "| 30| unemployed|\n",
      "| 33|   services|\n",
      "| 35| management|\n",
      "| 30| management|\n",
      "| 59|blue-collar|\n",
      "+---+-----------+\n",
      "only showing top 5 rows\n",
      "\n"
     ]
    }
   ],
   "source": [
    "df_csv.select('age','job').show(5)"
   ]
  },
  {
   "cell_type": "markdown",
   "id": "1135b115",
   "metadata": {},
   "source": [
    "#### Tabela przestawna crosstab"
   ]
  },
  {
   "cell_type": "code",
   "execution_count": 13,
   "id": "d6e2de5d",
   "metadata": {},
   "outputs": [
    {
     "name": "stdout",
     "output_type": "stream",
     "text": [
      "+---------+--------+-------+------+\n",
      "|y_marital|divorced|married|single|\n",
      "+---------+--------+-------+------+\n",
      "|       no|     451|   2520|  1029|\n",
      "|      yes|      77|    277|   167|\n",
      "+---------+--------+-------+------+\n",
      "\n"
     ]
    }
   ],
   "source": [
    "df_csv.crosstab('y', 'marital').show()"
   ]
  },
  {
   "cell_type": "code",
   "execution_count": 19,
   "id": "7160de65",
   "metadata": {},
   "outputs": [],
   "source": [
    "sample1 = df_csv.sample(False, 0.2,23 )"
   ]
  },
  {
   "cell_type": "code",
   "execution_count": 20,
   "id": "6714de2f",
   "metadata": {},
   "outputs": [
    {
     "data": {
      "text/plain": [
       "912"
      ]
     },
     "execution_count": 20,
     "metadata": {},
     "output_type": "execute_result"
    }
   ],
   "source": [
    "sample1.count()"
   ]
  },
  {
   "cell_type": "code",
   "execution_count": 16,
   "id": "54479e12",
   "metadata": {},
   "outputs": [
    {
     "data": {
      "text/plain": [
       "4521"
      ]
     },
     "execution_count": 16,
     "metadata": {},
     "output_type": "execute_result"
    }
   ],
   "source": [
    "df_csv.count()"
   ]
  },
  {
   "cell_type": "markdown",
   "id": "07e56fc1",
   "metadata": {},
   "source": [
    "### Exercise 49: Creating and Merging Two DataFrames"
   ]
  },
  {
   "cell_type": "code",
   "execution_count": null,
   "id": "0a790a02",
   "metadata": {},
   "outputs": [],
   "source": []
  }
 ],
 "metadata": {
  "kernelspec": {
   "display_name": "Python 3 (ipykernel)",
   "language": "python",
   "name": "python3"
  },
  "language_info": {
   "codemirror_mode": {
    "name": "ipython",
    "version": 3
   },
   "file_extension": ".py",
   "mimetype": "text/x-python",
   "name": "python",
   "nbconvert_exporter": "python",
   "pygments_lexer": "ipython3",
   "version": "3.9.13"
  }
 },
 "nbformat": 4,
 "nbformat_minor": 5
}
