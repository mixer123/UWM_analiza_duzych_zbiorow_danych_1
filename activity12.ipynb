{
 "cells": [
  {
   "cell_type": "markdown",
   "id": "28d4cfa5",
   "metadata": {},
   "source": [
    "Import pyspark library, set up SparkContext and SQLContext."
   ]
  },
  {
   "cell_type": "code",
   "execution_count": 1,
   "id": "8654217d",
   "metadata": {},
   "outputs": [],
   "source": [
    "import pyspark\n",
    "import random"
   ]
  },
  {
   "cell_type": "code",
   "execution_count": 2,
   "id": "e04ef5f0",
   "metadata": {},
   "outputs": [
    {
     "name": "stdout",
     "output_type": "stream",
     "text": [
      "23/04/10 20:48:57 WARN Utils: Your hostname, mixer-N550JV resolves to a loopback address: 127.0.1.1; using 192.168.1.101 instead (on interface wlp4s0)\n",
      "23/04/10 20:48:57 WARN Utils: Set SPARK_LOCAL_IP if you need to bind to another address\n"
     ]
    },
    {
     "name": "stderr",
     "output_type": "stream",
     "text": [
      "Setting default log level to \"WARN\".\n",
      "To adjust logging level use sc.setLogLevel(newLevel). For SparkR, use setLogLevel(newLevel).\n"
     ]
    },
    {
     "name": "stdout",
     "output_type": "stream",
     "text": [
      "23/04/10 20:48:58 WARN NativeCodeLoader: Unable to load native-hadoop library for your platform... using builtin-java classes where applicable\n"
     ]
    },
    {
     "name": "stderr",
     "output_type": "stream",
     "text": [
      "/home/mixer/anaconda3/lib/python3.9/site-packages/pyspark/sql/context.py:112: FutureWarning: Deprecated in 3.0.0. Use SparkSession.builder.getOrCreate() instead.\n",
      "  warnings.warn(\n"
     ]
    }
   ],
   "source": [
    "from pyspark import SparkContext\n",
    "sc = SparkContext()\n",
    "from pyspark.sql import SQLContext\n",
    "sqlc = SQLContext(sc)"
   ]
  },
  {
   "cell_type": "code",
   "execution_count": 17,
   "id": "9d1cc5b3",
   "metadata": {},
   "outputs": [],
   "source": [
    "import pandas as pd\n",
    "import numpy as np"
   ]
  },
  {
   "cell_type": "markdown",
   "id": "bf7d9c57",
   "metadata": {},
   "source": [
    "Fill in the missing values in the Sepallength column with the column's mean."
   ]
  },
  {
   "cell_type": "code",
   "execution_count": 3,
   "id": "a63419c2",
   "metadata": {},
   "outputs": [],
   "source": [
    "from pyspark.sql.functions import isnan, when, count, col"
   ]
  },
  {
   "cell_type": "code",
   "execution_count": 4,
   "id": "c5b6d84b",
   "metadata": {},
   "outputs": [],
   "source": [
    "df = sqlc.read.format('com.databricks.spark.csv').options(header = 'true',inferschema = 'true').load('iris_missing.csv')"
   ]
  },
  {
   "cell_type": "code",
   "execution_count": 26,
   "id": "393ce841",
   "metadata": {},
   "outputs": [
    {
     "data": {
      "text/plain": [
       "Column<'Sepallength'>"
      ]
     },
     "execution_count": 26,
     "metadata": {},
     "output_type": "execute_result"
    }
   ],
   "source": [
    "df.Sepallength"
   ]
  },
  {
   "cell_type": "markdown",
   "id": "22f29d22",
   "metadata": {},
   "source": [
    "Mean"
   ]
  },
  {
   "cell_type": "code",
   "execution_count": 12,
   "id": "752559db",
   "metadata": {},
   "outputs": [
    {
     "data": {
      "text/plain": [
       "DataFrame[summary: string, Sepallength: string]"
      ]
     },
     "execution_count": 12,
     "metadata": {},
     "output_type": "execute_result"
    }
   ],
   "source": [
    "df.select('Sepallength').describe()"
   ]
  },
  {
   "cell_type": "code",
   "execution_count": null,
   "id": "a3d76daf",
   "metadata": {},
   "outputs": [],
   "source": []
  }
 ],
 "metadata": {
  "kernelspec": {
   "display_name": "Python 3 (ipykernel)",
   "language": "python",
   "name": "python3"
  },
  "language_info": {
   "codemirror_mode": {
    "name": "ipython",
    "version": 3
   },
   "file_extension": ".py",
   "mimetype": "text/x-python",
   "name": "python",
   "nbconvert_exporter": "python",
   "pygments_lexer": "ipython3",
   "version": "3.9.13"
  }
 },
 "nbformat": 4,
 "nbformat_minor": 5
}
