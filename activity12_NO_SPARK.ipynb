{
 "cells": [
  {
   "cell_type": "markdown",
   "id": "e35525a1",
   "metadata": {},
   "source": [
    "Import pyspark library, set up SparkContext and SQLContext."
   ]
  },
  {
   "cell_type": "code",
   "execution_count": 1,
   "id": "48b1188b",
   "metadata": {},
   "outputs": [],
   "source": [
    "import pyspark\n",
    "import random"
   ]
  },
  {
   "cell_type": "code",
   "execution_count": 2,
   "id": "377153a4",
   "metadata": {},
   "outputs": [],
   "source": [
    "import pandas as pd"
   ]
  },
  {
   "cell_type": "code",
   "execution_count": 3,
   "id": "87d543aa",
   "metadata": {},
   "outputs": [],
   "source": [
    "import matplotlib.pyplot as plt\n",
    "import numpy as np"
   ]
  },
  {
   "cell_type": "code",
   "execution_count": 4,
   "id": "56d68df8",
   "metadata": {},
   "outputs": [],
   "source": [
    "import seaborn as sns"
   ]
  },
  {
   "cell_type": "markdown",
   "id": "faef8780",
   "metadata": {},
   "source": [
    "Fill in the missing values in the Sepallength column with the column's mean."
   ]
  },
  {
   "cell_type": "code",
   "execution_count": 5,
   "id": "81079da3",
   "metadata": {},
   "outputs": [],
   "source": [
    "df = pd.read_csv(\"iris_missing.csv\")"
   ]
  },
  {
   "cell_type": "markdown",
   "id": "36feb799",
   "metadata": {},
   "source": [
    "Mean"
   ]
  },
  {
   "cell_type": "code",
   "execution_count": 6,
   "id": "1b550568",
   "metadata": {},
   "outputs": [],
   "source": [
    "sepalength = df['Sepallength']"
   ]
  },
  {
   "cell_type": "code",
   "execution_count": 7,
   "id": "75e6c5dd",
   "metadata": {},
   "outputs": [
    {
     "data": {
      "text/plain": [
       "0      5.1\n",
       "1      4.9\n",
       "2      4.7\n",
       "3      4.6\n",
       "4      5.0\n",
       "      ... \n",
       "145    6.7\n",
       "146    6.3\n",
       "147    6.5\n",
       "148    6.2\n",
       "149    5.9\n",
       "Name: Sepallength, Length: 150, dtype: float64"
      ]
     },
     "execution_count": 7,
     "metadata": {},
     "output_type": "execute_result"
    }
   ],
   "source": [
    "sepalength"
   ]
  },
  {
   "cell_type": "code",
   "execution_count": 8,
   "id": "d5ba5331",
   "metadata": {},
   "outputs": [
    {
     "data": {
      "text/plain": [
       "5.82"
      ]
     },
     "execution_count": 8,
     "metadata": {},
     "output_type": "execute_result"
    }
   ],
   "source": [
    "sepalength.mean()"
   ]
  },
  {
   "cell_type": "code",
   "execution_count": 9,
   "id": "50691c49",
   "metadata": {},
   "outputs": [],
   "source": [
    "mean_ = sepalength.mean()"
   ]
  },
  {
   "cell_type": "markdown",
   "id": "74f4fe2c",
   "metadata": {},
   "source": [
    "Sepalength is null"
   ]
  },
  {
   "cell_type": "code",
   "execution_count": 10,
   "id": "94d747bb",
   "metadata": {},
   "outputs": [
    {
     "data": {
      "text/plain": [
       "81    NaN\n",
       "86    NaN\n",
       "92    NaN\n",
       "117   NaN\n",
       "120   NaN\n",
       "Name: Sepallength, dtype: float64"
      ]
     },
     "execution_count": 10,
     "metadata": {},
     "output_type": "execute_result"
    }
   ],
   "source": [
    "sepalength[sepalength.isnull()]"
   ]
  },
  {
   "cell_type": "markdown",
   "id": "406fc046",
   "metadata": {},
   "source": [
    "Sepalength is nan"
   ]
  },
  {
   "cell_type": "code",
   "execution_count": 11,
   "id": "1461cd0f",
   "metadata": {},
   "outputs": [
    {
     "data": {
      "text/plain": [
       "81    NaN\n",
       "86    NaN\n",
       "92    NaN\n",
       "117   NaN\n",
       "120   NaN\n",
       "Name: Sepallength, dtype: float64"
      ]
     },
     "execution_count": 11,
     "metadata": {},
     "output_type": "execute_result"
    }
   ],
   "source": [
    "sepalength[sepalength.isna()]"
   ]
  },
  {
   "cell_type": "markdown",
   "id": "328354b4",
   "metadata": {},
   "source": [
    "Fill mean"
   ]
  },
  {
   "cell_type": "code",
   "execution_count": 12,
   "id": "b0d06e8b",
   "metadata": {},
   "outputs": [],
   "source": [
    "sepalength[sepalength.isnull()].fillna(mean_, inplace=True)"
   ]
  },
  {
   "cell_type": "code",
   "execution_count": 13,
   "id": "77960ae3",
   "metadata": {},
   "outputs": [],
   "source": [
    "sepalength.fillna(mean_, inplace=True)"
   ]
  },
  {
   "cell_type": "markdown",
   "id": "bb31cbef",
   "metadata": {},
   "source": [
    "3.1. First, calculate the mean of the Sepallength column."
   ]
  },
  {
   "cell_type": "code",
   "execution_count": 14,
   "id": "038e7167",
   "metadata": {},
   "outputs": [],
   "source": [
    "mean_ = sepalength.mean()"
   ]
  },
  {
   "cell_type": "code",
   "execution_count": 15,
   "id": "e70d9387",
   "metadata": {},
   "outputs": [
    {
     "data": {
      "text/plain": [
       "5.820000000000001"
      ]
     },
     "execution_count": 15,
     "metadata": {},
     "output_type": "execute_result"
    }
   ],
   "source": [
    "mean_"
   ]
  },
  {
   "cell_type": "markdown",
   "id": "08d56522",
   "metadata": {},
   "source": [
    "3.2. Now, impute the missing values in the Sepallength column with the column's mean."
   ]
  },
  {
   "cell_type": "code",
   "execution_count": 16,
   "id": "e7f04317",
   "metadata": {},
   "outputs": [],
   "source": [
    "sepalength[sepalength.isnull()].fillna(mean_, inplace=True)"
   ]
  },
  {
   "cell_type": "markdown",
   "id": "1d6b87ef",
   "metadata": {},
   "source": [
    "4. Compute the correlation matrix for the dataset. Make sure to import the required modules, as shown here:"
   ]
  },
  {
   "cell_type": "code",
   "execution_count": 17,
   "id": "1c59996c",
   "metadata": {},
   "outputs": [
    {
     "data": {
      "text/html": [
       "<div>\n",
       "<style scoped>\n",
       "    .dataframe tbody tr th:only-of-type {\n",
       "        vertical-align: middle;\n",
       "    }\n",
       "\n",
       "    .dataframe tbody tr th {\n",
       "        vertical-align: top;\n",
       "    }\n",
       "\n",
       "    .dataframe thead th {\n",
       "        text-align: right;\n",
       "    }\n",
       "</style>\n",
       "<table border=\"1\" class=\"dataframe\">\n",
       "  <thead>\n",
       "    <tr style=\"text-align: right;\">\n",
       "      <th></th>\n",
       "      <th>Sepallength</th>\n",
       "      <th>Sepalwidth</th>\n",
       "      <th>Petallength</th>\n",
       "      <th>Petalwidth</th>\n",
       "    </tr>\n",
       "  </thead>\n",
       "  <tbody>\n",
       "    <tr>\n",
       "      <th>Sepallength</th>\n",
       "      <td>1.000000</td>\n",
       "      <td>-0.173564</td>\n",
       "      <td>0.861661</td>\n",
       "      <td>0.810511</td>\n",
       "    </tr>\n",
       "    <tr>\n",
       "      <th>Sepalwidth</th>\n",
       "      <td>-0.173564</td>\n",
       "      <td>1.000000</td>\n",
       "      <td>-0.447368</td>\n",
       "      <td>-0.413440</td>\n",
       "    </tr>\n",
       "    <tr>\n",
       "      <th>Petallength</th>\n",
       "      <td>0.861661</td>\n",
       "      <td>-0.447368</td>\n",
       "      <td>1.000000</td>\n",
       "      <td>0.962530</td>\n",
       "    </tr>\n",
       "    <tr>\n",
       "      <th>Petalwidth</th>\n",
       "      <td>0.810511</td>\n",
       "      <td>-0.413440</td>\n",
       "      <td>0.962530</td>\n",
       "      <td>1.000000</td>\n",
       "    </tr>\n",
       "  </tbody>\n",
       "</table>\n",
       "</div>"
      ],
      "text/plain": [
       "             Sepallength  Sepalwidth  Petallength  Petalwidth\n",
       "Sepallength     1.000000   -0.173564     0.861661    0.810511\n",
       "Sepalwidth     -0.173564    1.000000    -0.447368   -0.413440\n",
       "Petallength     0.861661   -0.447368     1.000000    0.962530\n",
       "Petalwidth      0.810511   -0.413440     0.962530    1.000000"
      ]
     },
     "execution_count": 17,
     "metadata": {},
     "output_type": "execute_result"
    }
   ],
   "source": [
    "df.corr()"
   ]
  },
  {
   "cell_type": "markdown",
   "id": "f366ff7a",
   "metadata": {},
   "source": [
    "Now, fill the missing values in the DataFrame before computing the correlation:"
   ]
  },
  {
   "cell_type": "code",
   "execution_count": 18,
   "id": "15f345ca",
   "metadata": {},
   "outputs": [
    {
     "name": "stderr",
     "output_type": "stream",
     "text": [
      "/tmp/ipykernel_7723/3031420940.py:1: SettingWithCopyWarning: \n",
      "A value is trying to be set on a copy of a slice from a DataFrame\n",
      "\n",
      "See the caveats in the documentation: https://pandas.pydata.org/pandas-docs/stable/user_guide/indexing.html#returning-a-view-versus-a-copy\n",
      "  df[sepalength.isnull()].fillna(mean_, inplace=True)\n"
     ]
    }
   ],
   "source": [
    "df[sepalength.isnull()].fillna(mean_, inplace=True)"
   ]
  },
  {
   "cell_type": "code",
   "execution_count": 19,
   "id": "89c3f656",
   "metadata": {},
   "outputs": [
    {
     "data": {
      "text/html": [
       "<div>\n",
       "<style scoped>\n",
       "    .dataframe tbody tr th:only-of-type {\n",
       "        vertical-align: middle;\n",
       "    }\n",
       "\n",
       "    .dataframe tbody tr th {\n",
       "        vertical-align: top;\n",
       "    }\n",
       "\n",
       "    .dataframe thead th {\n",
       "        text-align: right;\n",
       "    }\n",
       "</style>\n",
       "<table border=\"1\" class=\"dataframe\">\n",
       "  <thead>\n",
       "    <tr style=\"text-align: right;\">\n",
       "      <th></th>\n",
       "      <th>Sepallength</th>\n",
       "      <th>Sepalwidth</th>\n",
       "      <th>Petallength</th>\n",
       "      <th>Petalwidth</th>\n",
       "    </tr>\n",
       "  </thead>\n",
       "  <tbody>\n",
       "    <tr>\n",
       "      <th>Sepallength</th>\n",
       "      <td>1.000000</td>\n",
       "      <td>-0.173564</td>\n",
       "      <td>0.861661</td>\n",
       "      <td>0.810511</td>\n",
       "    </tr>\n",
       "    <tr>\n",
       "      <th>Sepalwidth</th>\n",
       "      <td>-0.173564</td>\n",
       "      <td>1.000000</td>\n",
       "      <td>-0.447368</td>\n",
       "      <td>-0.413440</td>\n",
       "    </tr>\n",
       "    <tr>\n",
       "      <th>Petallength</th>\n",
       "      <td>0.861661</td>\n",
       "      <td>-0.447368</td>\n",
       "      <td>1.000000</td>\n",
       "      <td>0.962530</td>\n",
       "    </tr>\n",
       "    <tr>\n",
       "      <th>Petalwidth</th>\n",
       "      <td>0.810511</td>\n",
       "      <td>-0.413440</td>\n",
       "      <td>0.962530</td>\n",
       "      <td>1.000000</td>\n",
       "    </tr>\n",
       "  </tbody>\n",
       "</table>\n",
       "</div>"
      ],
      "text/plain": [
       "             Sepallength  Sepalwidth  Petallength  Petalwidth\n",
       "Sepallength     1.000000   -0.173564     0.861661    0.810511\n",
       "Sepalwidth     -0.173564    1.000000    -0.447368   -0.413440\n",
       "Petallength     0.861661   -0.447368     1.000000    0.962530\n",
       "Petalwidth      0.810511   -0.413440     0.962530    1.000000"
      ]
     },
     "execution_count": 19,
     "metadata": {},
     "output_type": "execute_result"
    }
   ],
   "source": [
    "df.corr()"
   ]
  },
  {
   "cell_type": "markdown",
   "id": "db363665",
   "metadata": {},
   "source": [
    "Next, remove the String columns ('Species') from the PySpark DataFrame."
   ]
  },
  {
   "cell_type": "code",
   "execution_count": 20,
   "id": "f257e9c8",
   "metadata": {},
   "outputs": [],
   "source": [
    "df.drop(columns=['Species'], inplace = True)"
   ]
  },
  {
   "cell_type": "markdown",
   "id": "47b4f49c",
   "metadata": {},
   "source": [
    "7. Compute the correlation matrix in Spark"
   ]
  },
  {
   "cell_type": "code",
   "execution_count": 21,
   "id": "96761e5e",
   "metadata": {},
   "outputs": [
    {
     "data": {
      "text/html": [
       "<div>\n",
       "<style scoped>\n",
       "    .dataframe tbody tr th:only-of-type {\n",
       "        vertical-align: middle;\n",
       "    }\n",
       "\n",
       "    .dataframe tbody tr th {\n",
       "        vertical-align: top;\n",
       "    }\n",
       "\n",
       "    .dataframe thead th {\n",
       "        text-align: right;\n",
       "    }\n",
       "</style>\n",
       "<table border=\"1\" class=\"dataframe\">\n",
       "  <thead>\n",
       "    <tr style=\"text-align: right;\">\n",
       "      <th></th>\n",
       "      <th>Sepallength</th>\n",
       "      <th>Sepalwidth</th>\n",
       "      <th>Petallength</th>\n",
       "      <th>Petalwidth</th>\n",
       "    </tr>\n",
       "  </thead>\n",
       "  <tbody>\n",
       "    <tr>\n",
       "      <th>Sepallength</th>\n",
       "      <td>1.000000</td>\n",
       "      <td>-0.173564</td>\n",
       "      <td>0.861661</td>\n",
       "      <td>0.810511</td>\n",
       "    </tr>\n",
       "    <tr>\n",
       "      <th>Sepalwidth</th>\n",
       "      <td>-0.173564</td>\n",
       "      <td>1.000000</td>\n",
       "      <td>-0.447368</td>\n",
       "      <td>-0.413440</td>\n",
       "    </tr>\n",
       "    <tr>\n",
       "      <th>Petallength</th>\n",
       "      <td>0.861661</td>\n",
       "      <td>-0.447368</td>\n",
       "      <td>1.000000</td>\n",
       "      <td>0.962530</td>\n",
       "    </tr>\n",
       "    <tr>\n",
       "      <th>Petalwidth</th>\n",
       "      <td>0.810511</td>\n",
       "      <td>-0.413440</td>\n",
       "      <td>0.962530</td>\n",
       "      <td>1.000000</td>\n",
       "    </tr>\n",
       "  </tbody>\n",
       "</table>\n",
       "</div>"
      ],
      "text/plain": [
       "             Sepallength  Sepalwidth  Petallength  Petalwidth\n",
       "Sepallength     1.000000   -0.173564     0.861661    0.810511\n",
       "Sepalwidth     -0.173564    1.000000    -0.447368   -0.413440\n",
       "Petallength     0.861661   -0.447368     1.000000    0.962530\n",
       "Petalwidth      0.810511   -0.413440     0.962530    1.000000"
      ]
     },
     "execution_count": 21,
     "metadata": {},
     "output_type": "execute_result"
    }
   ],
   "source": [
    "df.corr()"
   ]
  },
  {
   "cell_type": "markdown",
   "id": "5715116b",
   "metadata": {},
   "source": [
    "9. Plot the variable pairs showing strong positive correlation (more than 0.7) and fit a linear line on them."
   ]
  },
  {
   "cell_type": "code",
   "execution_count": 22,
   "id": "4c7cd8d8",
   "metadata": {},
   "outputs": [
    {
     "data": {
      "text/html": [
       "<div>\n",
       "<style scoped>\n",
       "    .dataframe tbody tr th:only-of-type {\n",
       "        vertical-align: middle;\n",
       "    }\n",
       "\n",
       "    .dataframe tbody tr th {\n",
       "        vertical-align: top;\n",
       "    }\n",
       "\n",
       "    .dataframe thead th {\n",
       "        text-align: right;\n",
       "    }\n",
       "</style>\n",
       "<table border=\"1\" class=\"dataframe\">\n",
       "  <thead>\n",
       "    <tr style=\"text-align: right;\">\n",
       "      <th></th>\n",
       "      <th>Sepallength</th>\n",
       "      <th>Sepalwidth</th>\n",
       "      <th>Petallength</th>\n",
       "      <th>Petalwidth</th>\n",
       "    </tr>\n",
       "  </thead>\n",
       "  <tbody>\n",
       "    <tr>\n",
       "      <th>Sepallength</th>\n",
       "      <td>1.000000</td>\n",
       "      <td>NaN</td>\n",
       "      <td>0.861661</td>\n",
       "      <td>0.810511</td>\n",
       "    </tr>\n",
       "    <tr>\n",
       "      <th>Sepalwidth</th>\n",
       "      <td>NaN</td>\n",
       "      <td>1.0</td>\n",
       "      <td>NaN</td>\n",
       "      <td>NaN</td>\n",
       "    </tr>\n",
       "    <tr>\n",
       "      <th>Petallength</th>\n",
       "      <td>0.861661</td>\n",
       "      <td>NaN</td>\n",
       "      <td>1.000000</td>\n",
       "      <td>0.962530</td>\n",
       "    </tr>\n",
       "    <tr>\n",
       "      <th>Petalwidth</th>\n",
       "      <td>0.810511</td>\n",
       "      <td>NaN</td>\n",
       "      <td>0.962530</td>\n",
       "      <td>1.000000</td>\n",
       "    </tr>\n",
       "  </tbody>\n",
       "</table>\n",
       "</div>"
      ],
      "text/plain": [
       "             Sepallength  Sepalwidth  Petallength  Petalwidth\n",
       "Sepallength     1.000000         NaN     0.861661    0.810511\n",
       "Sepalwidth           NaN         1.0          NaN         NaN\n",
       "Petallength     0.861661         NaN     1.000000    0.962530\n",
       "Petalwidth      0.810511         NaN     0.962530    1.000000"
      ]
     },
     "execution_count": 22,
     "metadata": {},
     "output_type": "execute_result"
    }
   ],
   "source": [
    "df.corr()[df.corr() > 0.7]"
   ]
  },
  {
   "cell_type": "code",
   "execution_count": 23,
   "id": "7158077e",
   "metadata": {},
   "outputs": [],
   "source": [
    "corr_matrix= df.corr()[df.corr() > 0.7]"
   ]
  },
  {
   "cell_type": "code",
   "execution_count": 24,
   "id": "3fcafa15",
   "metadata": {},
   "outputs": [
    {
     "data": {
      "text/html": [
       "<div>\n",
       "<style scoped>\n",
       "    .dataframe tbody tr th:only-of-type {\n",
       "        vertical-align: middle;\n",
       "    }\n",
       "\n",
       "    .dataframe tbody tr th {\n",
       "        vertical-align: top;\n",
       "    }\n",
       "\n",
       "    .dataframe thead th {\n",
       "        text-align: right;\n",
       "    }\n",
       "</style>\n",
       "<table border=\"1\" class=\"dataframe\">\n",
       "  <thead>\n",
       "    <tr style=\"text-align: right;\">\n",
       "      <th></th>\n",
       "      <th>Sepallength</th>\n",
       "      <th>Sepalwidth</th>\n",
       "      <th>Petallength</th>\n",
       "      <th>Petalwidth</th>\n",
       "    </tr>\n",
       "  </thead>\n",
       "  <tbody>\n",
       "    <tr>\n",
       "      <th>Sepallength</th>\n",
       "      <td>1.000000</td>\n",
       "      <td>NaN</td>\n",
       "      <td>0.861661</td>\n",
       "      <td>0.810511</td>\n",
       "    </tr>\n",
       "    <tr>\n",
       "      <th>Sepalwidth</th>\n",
       "      <td>NaN</td>\n",
       "      <td>1.0</td>\n",
       "      <td>NaN</td>\n",
       "      <td>NaN</td>\n",
       "    </tr>\n",
       "    <tr>\n",
       "      <th>Petallength</th>\n",
       "      <td>0.861661</td>\n",
       "      <td>NaN</td>\n",
       "      <td>1.000000</td>\n",
       "      <td>0.962530</td>\n",
       "    </tr>\n",
       "    <tr>\n",
       "      <th>Petalwidth</th>\n",
       "      <td>0.810511</td>\n",
       "      <td>NaN</td>\n",
       "      <td>0.962530</td>\n",
       "      <td>1.000000</td>\n",
       "    </tr>\n",
       "  </tbody>\n",
       "</table>\n",
       "</div>"
      ],
      "text/plain": [
       "             Sepallength  Sepalwidth  Petallength  Petalwidth\n",
       "Sepallength     1.000000         NaN     0.861661    0.810511\n",
       "Sepalwidth           NaN         1.0          NaN         NaN\n",
       "Petallength     0.861661         NaN     1.000000    0.962530\n",
       "Petalwidth      0.810511         NaN     0.962530    1.000000"
      ]
     },
     "execution_count": 24,
     "metadata": {},
     "output_type": "execute_result"
    }
   ],
   "source": [
    "corr_matrix"
   ]
  },
  {
   "cell_type": "markdown",
   "id": "b968c765",
   "metadata": {},
   "source": [
    "#### Fit line Sepallength , Petallength"
   ]
  },
  {
   "cell_type": "code",
   "execution_count": 25,
   "id": "4314c52f",
   "metadata": {},
   "outputs": [
    {
     "name": "stderr",
     "output_type": "stream",
     "text": [
      "/home/mixer/anaconda3/lib/python3.9/site-packages/seaborn/_decorators.py:36: FutureWarning: Pass the following variables as keyword args: x, y. From version 0.12, the only valid positional argument will be `data`, and passing other arguments without an explicit keyword will result in an error or misinterpretation.\n",
      "  warnings.warn(\n"
     ]
    },
    {
     "data": {
      "text/plain": [
       "<AxesSubplot:xlabel='Sepallength', ylabel='Petallength'>"
      ]
     },
     "execution_count": 25,
     "metadata": {},
     "output_type": "execute_result"
    },
    {
     "data": {
      "image/png": "[encoded data removed]",
      "text/plain": [
       "<Figure size 640x480 with 1 Axes>"
      ]
     },
     "metadata": {},
     "output_type": "display_data"
    }
   ],
   "source": [
    "sns.regplot(df.Sepallength,df.Petallength)"
   ]
  },
  {
   "cell_type": "code",
   "execution_count": 26,
   "id": "ced127fa",
   "metadata": {},
   "outputs": [],
   "source": [
    "corr_matrix_without_zero = corr_matrix.fillna(0)"
   ]
  },
  {
   "cell_type": "code",
   "execution_count": null,
   "id": "83742aa8",
   "metadata": {},
   "outputs": [],
   "source": []
  },
  {
   "cell_type": "code",
   "execution_count": 27,
   "id": "18d47ab5",
   "metadata": {},
   "outputs": [
    {
     "data": {
      "text/html": [
       "<div>\n",
       "<style scoped>\n",
       "    .dataframe tbody tr th:only-of-type {\n",
       "        vertical-align: middle;\n",
       "    }\n",
       "\n",
       "    .dataframe tbody tr th {\n",
       "        vertical-align: top;\n",
       "    }\n",
       "\n",
       "    .dataframe thead th {\n",
       "        text-align: right;\n",
       "    }\n",
       "</style>\n",
       "<table border=\"1\" class=\"dataframe\">\n",
       "  <thead>\n",
       "    <tr style=\"text-align: right;\">\n",
       "      <th></th>\n",
       "      <th>Sepallength</th>\n",
       "      <th>Sepalwidth</th>\n",
       "      <th>Petallength</th>\n",
       "      <th>Petalwidth</th>\n",
       "    </tr>\n",
       "  </thead>\n",
       "  <tbody>\n",
       "    <tr>\n",
       "      <th>Sepallength</th>\n",
       "      <td>1.000000</td>\n",
       "      <td>0.0</td>\n",
       "      <td>0.861661</td>\n",
       "      <td>0.810511</td>\n",
       "    </tr>\n",
       "    <tr>\n",
       "      <th>Sepalwidth</th>\n",
       "      <td>0.000000</td>\n",
       "      <td>1.0</td>\n",
       "      <td>0.000000</td>\n",
       "      <td>0.000000</td>\n",
       "    </tr>\n",
       "    <tr>\n",
       "      <th>Petallength</th>\n",
       "      <td>0.861661</td>\n",
       "      <td>0.0</td>\n",
       "      <td>1.000000</td>\n",
       "      <td>0.962530</td>\n",
       "    </tr>\n",
       "    <tr>\n",
       "      <th>Petalwidth</th>\n",
       "      <td>0.810511</td>\n",
       "      <td>0.0</td>\n",
       "      <td>0.962530</td>\n",
       "      <td>1.000000</td>\n",
       "    </tr>\n",
       "  </tbody>\n",
       "</table>\n",
       "</div>"
      ],
      "text/plain": [
       "             Sepallength  Sepalwidth  Petallength  Petalwidth\n",
       "Sepallength     1.000000         0.0     0.861661    0.810511\n",
       "Sepalwidth      0.000000         1.0     0.000000    0.000000\n",
       "Petallength     0.861661         0.0     1.000000    0.962530\n",
       "Petalwidth      0.810511         0.0     0.962530    1.000000"
      ]
     },
     "execution_count": 27,
     "metadata": {},
     "output_type": "execute_result"
    }
   ],
   "source": [
    "corr_matrix_without_zero"
   ]
  },
  {
   "cell_type": "code",
   "execution_count": 28,
   "id": "fe4bb0ee",
   "metadata": {},
   "outputs": [
    {
     "data": {
      "text/html": [
       "<div>\n",
       "<style scoped>\n",
       "    .dataframe tbody tr th:only-of-type {\n",
       "        vertical-align: middle;\n",
       "    }\n",
       "\n",
       "    .dataframe tbody tr th {\n",
       "        vertical-align: top;\n",
       "    }\n",
       "\n",
       "    .dataframe thead th {\n",
       "        text-align: right;\n",
       "    }\n",
       "</style>\n",
       "<table border=\"1\" class=\"dataframe\">\n",
       "  <thead>\n",
       "    <tr style=\"text-align: right;\">\n",
       "      <th></th>\n",
       "      <th>Sepallength</th>\n",
       "      <th>Sepalwidth</th>\n",
       "      <th>Petallength</th>\n",
       "      <th>Petalwidth</th>\n",
       "    </tr>\n",
       "  </thead>\n",
       "  <tbody>\n",
       "    <tr>\n",
       "      <th>Sepallength</th>\n",
       "      <td>1.000000</td>\n",
       "      <td>NaN</td>\n",
       "      <td>0.861661</td>\n",
       "      <td>0.810511</td>\n",
       "    </tr>\n",
       "    <tr>\n",
       "      <th>Sepalwidth</th>\n",
       "      <td>NaN</td>\n",
       "      <td>1.0</td>\n",
       "      <td>NaN</td>\n",
       "      <td>NaN</td>\n",
       "    </tr>\n",
       "    <tr>\n",
       "      <th>Petallength</th>\n",
       "      <td>0.861661</td>\n",
       "      <td>NaN</td>\n",
       "      <td>1.000000</td>\n",
       "      <td>0.962530</td>\n",
       "    </tr>\n",
       "    <tr>\n",
       "      <th>Petalwidth</th>\n",
       "      <td>0.810511</td>\n",
       "      <td>NaN</td>\n",
       "      <td>0.962530</td>\n",
       "      <td>1.000000</td>\n",
       "    </tr>\n",
       "  </tbody>\n",
       "</table>\n",
       "</div>"
      ],
      "text/plain": [
       "             Sepallength  Sepalwidth  Petallength  Petalwidth\n",
       "Sepallength     1.000000         NaN     0.861661    0.810511\n",
       "Sepalwidth           NaN         1.0          NaN         NaN\n",
       "Petallength     0.861661         NaN     1.000000    0.962530\n",
       "Petalwidth      0.810511         NaN     0.962530    1.000000"
      ]
     },
     "execution_count": 28,
     "metadata": {},
     "output_type": "execute_result"
    }
   ],
   "source": [
    "corr_matrix_without_zero[corr_matrix_without_zero >0.7]"
   ]
  },
  {
   "cell_type": "code",
   "execution_count": 29,
   "id": "22bb9679",
   "metadata": {},
   "outputs": [],
   "source": [
    "corr_matrix_new = corr_matrix_without_zero.drop(index='Sepalwidth')"
   ]
  },
  {
   "cell_type": "code",
   "execution_count": 30,
   "id": "e1b542dd",
   "metadata": {},
   "outputs": [
    {
     "data": {
      "text/html": [
       "<div>\n",
       "<style scoped>\n",
       "    .dataframe tbody tr th:only-of-type {\n",
       "        vertical-align: middle;\n",
       "    }\n",
       "\n",
       "    .dataframe tbody tr th {\n",
       "        vertical-align: top;\n",
       "    }\n",
       "\n",
       "    .dataframe thead th {\n",
       "        text-align: right;\n",
       "    }\n",
       "</style>\n",
       "<table border=\"1\" class=\"dataframe\">\n",
       "  <thead>\n",
       "    <tr style=\"text-align: right;\">\n",
       "      <th></th>\n",
       "      <th>Sepallength</th>\n",
       "      <th>Sepalwidth</th>\n",
       "      <th>Petallength</th>\n",
       "      <th>Petalwidth</th>\n",
       "    </tr>\n",
       "  </thead>\n",
       "  <tbody>\n",
       "    <tr>\n",
       "      <th>Sepallength</th>\n",
       "      <td>1.000000</td>\n",
       "      <td>0.0</td>\n",
       "      <td>0.861661</td>\n",
       "      <td>0.810511</td>\n",
       "    </tr>\n",
       "    <tr>\n",
       "      <th>Petallength</th>\n",
       "      <td>0.861661</td>\n",
       "      <td>0.0</td>\n",
       "      <td>1.000000</td>\n",
       "      <td>0.962530</td>\n",
       "    </tr>\n",
       "    <tr>\n",
       "      <th>Petalwidth</th>\n",
       "      <td>0.810511</td>\n",
       "      <td>0.0</td>\n",
       "      <td>0.962530</td>\n",
       "      <td>1.000000</td>\n",
       "    </tr>\n",
       "  </tbody>\n",
       "</table>\n",
       "</div>"
      ],
      "text/plain": [
       "             Sepallength  Sepalwidth  Petallength  Petalwidth\n",
       "Sepallength     1.000000         0.0     0.861661    0.810511\n",
       "Petallength     0.861661         0.0     1.000000    0.962530\n",
       "Petalwidth      0.810511         0.0     0.962530    1.000000"
      ]
     },
     "execution_count": 30,
     "metadata": {},
     "output_type": "execute_result"
    }
   ],
   "source": [
    "corr_matrix_new"
   ]
  },
  {
   "cell_type": "code",
   "execution_count": 31,
   "id": "a13de20a",
   "metadata": {},
   "outputs": [
    {
     "data": {
      "text/html": [
       "<div>\n",
       "<style scoped>\n",
       "    .dataframe tbody tr th:only-of-type {\n",
       "        vertical-align: middle;\n",
       "    }\n",
       "\n",
       "    .dataframe tbody tr th {\n",
       "        vertical-align: top;\n",
       "    }\n",
       "\n",
       "    .dataframe thead th {\n",
       "        text-align: right;\n",
       "    }\n",
       "</style>\n",
       "<table border=\"1\" class=\"dataframe\">\n",
       "  <thead>\n",
       "    <tr style=\"text-align: right;\">\n",
       "      <th></th>\n",
       "      <th>Sepallength</th>\n",
       "      <th>Petallength</th>\n",
       "      <th>Petalwidth</th>\n",
       "    </tr>\n",
       "  </thead>\n",
       "  <tbody>\n",
       "    <tr>\n",
       "      <th>Sepallength</th>\n",
       "      <td>1.000000</td>\n",
       "      <td>0.861661</td>\n",
       "      <td>0.810511</td>\n",
       "    </tr>\n",
       "    <tr>\n",
       "      <th>Petallength</th>\n",
       "      <td>0.861661</td>\n",
       "      <td>1.000000</td>\n",
       "      <td>0.962530</td>\n",
       "    </tr>\n",
       "    <tr>\n",
       "      <th>Petalwidth</th>\n",
       "      <td>0.810511</td>\n",
       "      <td>0.962530</td>\n",
       "      <td>1.000000</td>\n",
       "    </tr>\n",
       "  </tbody>\n",
       "</table>\n",
       "</div>"
      ],
      "text/plain": [
       "             Sepallength  Petallength  Petalwidth\n",
       "Sepallength     1.000000     0.861661    0.810511\n",
       "Petallength     0.861661     1.000000    0.962530\n",
       "Petalwidth      0.810511     0.962530    1.000000"
      ]
     },
     "execution_count": 31,
     "metadata": {},
     "output_type": "execute_result"
    }
   ],
   "source": [
    "corr_matrix_new.drop(columns=['Sepalwidth'])"
   ]
  },
  {
   "cell_type": "code",
   "execution_count": 32,
   "id": "13b891f5",
   "metadata": {},
   "outputs": [],
   "source": [
    "columns_ = corr_matrix_new.drop(columns=['Sepalwidth']).columns"
   ]
  },
  {
   "cell_type": "code",
   "execution_count": 44,
   "id": "b5e6f748",
   "metadata": {},
   "outputs": [
    {
     "data": {
      "image/png": "[encoded data removed]",
      "text/plain": [
       "<Figure size 640x480 with 1 Axes>"
      ]
     },
     "metadata": {},
     "output_type": "display_data"
    },
    {
     "data": {
      "image/png": "[encoded data removed]",
      "text/plain": [
       "<Figure size 640x480 with 1 Axes>"
      ]
     },
     "metadata": {},
     "output_type": "display_data"
    },
    {
     "data": {
      "image/png": "[encoded data removed]",
      "text/plain": [
       "<Figure size 640x480 with 1 Axes>"
      ]
     },
     "metadata": {},
     "output_type": "display_data"
    }
   ],
   "source": [
    "\n",
    "# fig = plt.figure()\n",
    "# fig.subplots_adjust(hspace=0.4, wspace=0.4)\n",
    "ii=1\n",
    "for i in range(len(columns_)):\n",
    "    for j in range(i+1, len(columns_)):\n",
    "        \n",
    "        fig = plt.figure()\n",
    "#         ax = fig.add_subplot(2, 2, ii)\n",
    "        sns.regplot(df[columns_[i]],df[columns_[j]])\n",
    "        ii+=1\n",
    "  \n",
    "       \n",
    "        \n",
    "    \n",
    "    "
   ]
  },
  {
   "cell_type": "code",
   "execution_count": null,
   "id": "04f0db60",
   "metadata": {},
   "outputs": [],
   "source": []
  }
 ],
 "metadata": {
  "kernelspec": {
   "display_name": "Python 3 (ipykernel)",
   "language": "python",
   "name": "python3"
  },
  "language_info": {
   "codemirror_mode": {
    "name": "ipython",
    "version": 3
   },
   "file_extension": ".py",
   "mimetype": "text/x-python",
   "name": "python",
   "nbconvert_exporter": "python",
   "pygments_lexer": "ipython3",
   "version": "3.9.13"
  }
 },
 "nbformat": 4,
 "nbformat_minor": 5
}
